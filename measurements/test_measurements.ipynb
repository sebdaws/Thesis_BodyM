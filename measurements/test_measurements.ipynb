{
 "cells": [
  {
   "cell_type": "code",
   "execution_count": 7,
   "metadata": {},
   "outputs": [
    {
     "name": "stdout",
     "output_type": "stream",
     "text": [
      "Output shape: torch.Size([8, 14])\n"
     ]
    }
   ],
   "source": [
    "import torch\n",
    "import torch.nn as nn\n",
    "import torchvision.models as models\n",
    "from torchvision import transforms\n",
    "\n",
    "# Define the Body Measurement Estimation Network\n",
    "class MeasureNet(nn.Module):\n",
    "    def __init__(self, num_outputs=14):\n",
    "        super(MeasureNet, self).__init__()\n",
    "        \n",
    "        # MNASNet backbone\n",
    "        self.backbone = models.mnasnet1_0(pretrained=True)  # Using the depth multiplier of 1\n",
    "        self.backbone.classifier = nn.Identity()  # Remove the classifier\n",
    "\n",
    "        # MLP for final regression\n",
    "        self.mlp = nn.Sequential(\n",
    "            nn.Linear(1280 + 2, 128),  # 1280 features from MNASNet + 2 for height and weight\n",
    "            nn.ReLU(),\n",
    "            nn.Linear(128, num_outputs)  # 14 outputs for body measurements\n",
    "        )\n",
    "    \n",
    "    def forward(self, x, height_weight):\n",
    "        x = self.backbone(x)\n",
    "        x = torch.cat([x, height_weight], dim=1)\n",
    "        x = self.mlp(x)\n",
    "        return x\n",
    "\n",
    "# Create a random input tensor of size (batch_size, 3, 640, 960)\n",
    "batch_size = 8\n",
    "x = torch.randn(batch_size, 3, 640, 960)\n",
    "\n",
    "# Create a random tensor for height and weight of size (batch_size, 2)\n",
    "height_weight = torch.randn(batch_size, 2)\n",
    "\n",
    "# Instantiate the network and print its architecture\n",
    "model = MeasureNet()\n",
    "# print(model)\n",
    "\n",
    "# Forward pass through the network\n",
    "output = model(x, height_weight)\n",
    "print(\"Output shape:\", output.shape)"
   ]
  },
  {
   "cell_type": "code",
   "execution_count": 9,
   "metadata": {},
   "outputs": [
    {
     "name": "stdout",
     "output_type": "stream",
     "text": [
      "tensor([ 0.0443,  0.0208, -0.0019, -0.1657, -0.0261,  0.0260,  0.0673, -0.0306,\n",
      "         0.0863, -0.1025, -0.0430, -0.0318,  0.0179, -0.0159],\n",
      "       grad_fn=<SelectBackward0>)\n"
     ]
    }
   ],
   "source": [
    "print(output[0])"
   ]
  },
  {
   "cell_type": "code",
   "execution_count": null,
   "metadata": {},
   "outputs": [],
   "source": []
  }
 ],
 "metadata": {
  "kernelspec": {
   "display_name": "dsml_env",
   "language": "python",
   "name": "python3"
  },
  "language_info": {
   "codemirror_mode": {
    "name": "ipython",
    "version": 3
   },
   "file_extension": ".py",
   "mimetype": "text/x-python",
   "name": "python",
   "nbconvert_exporter": "python",
   "pygments_lexer": "ipython3",
   "version": "3.9.7"
  }
 },
 "nbformat": 4,
 "nbformat_minor": 2
}
