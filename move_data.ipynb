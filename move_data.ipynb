{
 "cells": [
  {
   "cell_type": "code",
   "execution_count": 1,
   "metadata": {},
   "outputs": [
    {
     "name": "stdout",
     "output_type": "stream",
     "text": [
      "Files have been successfully moved and distributed, ensuring images and masks match in each subfolder.\n"
     ]
    }
   ],
   "source": [
    "import os\n",
    "import shutil\n",
    "from pathlib import Path\n",
    "\n",
    "# Define source and destination directories\n",
    "source_dir = Path('CAESAR/output_dataset')\n",
    "destination_dir = Path('data/segmentation_dataset')\n",
    "\n",
    "# Create subdirectories in the destination\n",
    "for i in range(10):\n",
    "    # Each subfolder gets an 'images' and 'masks' subdirectory\n",
    "    os.makedirs(destination_dir / f'subfolder_{i+1}' / 'images', exist_ok=True)\n",
    "    os.makedirs(destination_dir / f'subfolder_{i+1}' / 'masks', exist_ok=True)\n",
    "\n",
    "# Function to distribute matching images and masks\n",
    "def distribute_files():\n",
    "    # Get all image files in the source images subdirectory\n",
    "    image_files = os.listdir(source_dir / 'images')\n",
    "    num_files = len(image_files)\n",
    "    \n",
    "    # Iterate through image files\n",
    "    for index, image_name in enumerate(image_files):\n",
    "        mask_name = image_name  # Assuming mask names match image names exactly\n",
    "\n",
    "        # Determine which subfolder to use based on file index\n",
    "        subfolder_index = index % 10  # This will distribute files evenly across 10 subfolders\n",
    "\n",
    "        # Define the target subdirectories for images and masks\n",
    "        target_image_subdir = destination_dir / f'subfolder_{subfolder_index+1}' / 'images'\n",
    "        target_mask_subdir = destination_dir / f'subfolder_{subfolder_index+1}' / 'masks'\n",
    "\n",
    "        # Move image\n",
    "        shutil.move(str(source_dir / 'images' / image_name), str(target_image_subdir / image_name))\n",
    "        # Move mask\n",
    "        shutil.move(str(source_dir / 'masks' / mask_name), str(target_mask_subdir / mask_name))\n",
    "\n",
    "distribute_files()\n",
    "\n",
    "print(\"Files have been successfully moved and distributed, ensuring images and masks match in each subfolder.\")"
   ]
  }
 ],
 "metadata": {
  "kernelspec": {
   "display_name": "dsml_env",
   "language": "python",
   "name": "python3"
  },
  "language_info": {
   "codemirror_mode": {
    "name": "ipython",
    "version": 3
   },
   "file_extension": ".py",
   "mimetype": "text/x-python",
   "name": "python",
   "nbconvert_exporter": "python",
   "pygments_lexer": "ipython3",
   "version": "3.9.7"
  }
 },
 "nbformat": 4,
 "nbformat_minor": 2
}
