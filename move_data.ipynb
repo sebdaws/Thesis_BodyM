{
 "cells": [
  {
   "cell_type": "code",
   "execution_count": 1,
   "metadata": {},
   "outputs": [
    {
     "name": "stdout",
     "output_type": "stream",
     "text": [
      "Files have been successfully moved and distributed, ensuring images and masks match in each subfolder.\n"
     ]
    }
   ],
   "source": [
    "import os\n",
    "import shutil\n",
    "from pathlib import Path\n",
    "\n",
    "# Define source and destination directories\n",
    "source_dir = Path('CAESAR/output_dataset')\n",
    "destination_dir = Path('data/segmentation_dataset')\n",
    "\n",
    "# Create subdirectories in the destination\n",
    "for i in range(10):\n",
    "    # Each subfolder gets an 'images' and 'masks' subdirectory\n",
    "    os.makedirs(destination_dir / f'subfolder_{i+1}' / 'images', exist_ok=True)\n",
    "    os.makedirs(destination_dir / f'subfolder_{i+1}' / 'masks', exist_ok=True)\n",
    "\n",
    "# Function to distribute matching images and masks\n",
    "def distribute_files():\n",
    "    # Get all image files in the source images subdirectory\n",
    "    image_files = os.listdir(source_dir / 'images')\n",
    "    num_files = len(image_files)\n",
    "    \n",
    "    # Iterate through image files\n",
    "    for index, image_name in enumerate(image_files):\n",
    "        mask_name = image_name  # Assuming mask names match image names exactly\n",
    "\n",
    "        # Determine which subfolder to use based on file index\n",
    "        subfolder_index = index % 10  # This will distribute files evenly across 10 subfolders\n",
    "\n",
    "        # Define the target subdirectories for images and masks\n",
    "        target_image_subdir = destination_dir / f'subfolder_{subfolder_index+1}' / 'images'\n",
    "        target_mask_subdir = destination_dir / f'subfolder_{subfolder_index+1}' / 'masks'\n",
    "\n",
    "        # Move image\n",
    "        shutil.move(str(source_dir / 'images' / image_name), str(target_image_subdir / image_name))\n",
    "        # Move mask\n",
    "        shutil.move(str(source_dir / 'masks' / mask_name), str(target_mask_subdir / mask_name))\n",
    "\n",
    "distribute_files()\n",
    "\n",
    "print(\"Files have been successfully moved and distributed, ensuring images and masks match in each subfolder.\")"
   ]
  },
  {
   "cell_type": "code",
   "execution_count": 6,
   "metadata": {},
   "outputs": [
    {
     "name": "stdout",
     "output_type": "stream",
     "text": [
      "Files have been copied and distributed successfully.\n"
     ]
    }
   ],
   "source": [
    "import os\n",
    "import shutil\n",
    "from math import ceil\n",
    "\n",
    "# Define source and target directories\n",
    "segmentation_src_dir = 'CAESAR/processed_dataset/setA/segmentation'\n",
    "scans_src_dir = 'CAESAR/processed_dataset/setA/scans'\n",
    "base_dst_dir = 'data/3D_reconstruction'\n",
    "\n",
    "# Create 10 subfolders under data/3D_reconstruction, each with an images and scans folder\n",
    "num_subfolders = 10\n",
    "for i in range(1, num_subfolders + 1):\n",
    "    os.makedirs(os.path.join(base_dst_dir, f'subfolder_{i}', 'images'), exist_ok=True)\n",
    "    os.makedirs(os.path.join(base_dst_dir, f'subfolder_{i}', 'scans'), exist_ok=True)\n",
    "\n",
    "# Function to distribute files among the subfolders ensuring corresponding scans and images are together\n",
    "def distribute_files():\n",
    "    scan_files = [f for f in os.listdir(scans_src_dir) if f.endswith('.ply')]\n",
    "    num_files = len(scan_files)\n",
    "    files_per_folder = ceil(num_files / num_subfolders)\n",
    "\n",
    "    for i, scan_filename in enumerate(scan_files):\n",
    "        base_name = os.path.splitext(scan_filename)[0]  # Get the base name without extension\n",
    "        front_view_filename = f\"{base_name}_front_view.png\"\n",
    "        side_view_filename = f\"{base_name}_side_view.png\"\n",
    "\n",
    "        # Check if corresponding images exist\n",
    "        if not (os.path.exists(os.path.join(segmentation_src_dir, front_view_filename)) and\n",
    "                os.path.exists(os.path.join(segmentation_src_dir, side_view_filename))):\n",
    "            print(f\"Corresponding images for {scan_filename} not found. Skipping.\")\n",
    "            continue\n",
    "\n",
    "        # Determine the destination subfolder index\n",
    "        subfolder_index = (i // files_per_folder) + 1\n",
    "\n",
    "        # Define source and destination paths\n",
    "        scan_src_path = os.path.join(scans_src_dir, scan_filename)\n",
    "        front_view_src_path = os.path.join(segmentation_src_dir, front_view_filename)\n",
    "        side_view_src_path = os.path.join(segmentation_src_dir, side_view_filename)\n",
    "\n",
    "        scan_dst_path = os.path.join(base_dst_dir, f'subfolder_{subfolder_index}', 'scans', scan_filename)\n",
    "        front_view_dst_path = os.path.join(base_dst_dir, f'subfolder_{subfolder_index}', 'images', front_view_filename)\n",
    "        side_view_dst_path = os.path.join(base_dst_dir, f'subfolder_{subfolder_index}', 'images', side_view_filename)\n",
    "\n",
    "        # Copy files to destination\n",
    "        shutil.copy(scan_src_path, scan_dst_path)\n",
    "        shutil.copy(front_view_src_path, front_view_dst_path)\n",
    "        shutil.copy(side_view_src_path, side_view_dst_path)\n",
    "\n",
    "# Distribute the files\n",
    "distribute_files()\n",
    "\n",
    "print(\"Files have been copied and distributed successfully.\")"
   ]
  }
 ],
 "metadata": {
  "kernelspec": {
   "display_name": "dsml_env",
   "language": "python",
   "name": "python3"
  },
  "language_info": {
   "codemirror_mode": {
    "name": "ipython",
    "version": 3
   },
   "file_extension": ".py",
   "mimetype": "text/x-python",
   "name": "python",
   "nbconvert_exporter": "python",
   "pygments_lexer": "ipython3",
   "version": "3.9.7"
  }
 },
 "nbformat": 4,
 "nbformat_minor": 2
}
